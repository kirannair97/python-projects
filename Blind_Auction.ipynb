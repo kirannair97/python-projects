{
  "nbformat": 4,
  "nbformat_minor": 0,
  "metadata": {
    "colab": {
      "provenance": [],
      "authorship_tag": "ABX9TyMObr/s/2Ucyj+cNZDH+BaJ",
      "include_colab_link": true
    },
    "kernelspec": {
      "name": "python3",
      "display_name": "Python 3"
    },
    "language_info": {
      "name": "python"
    }
  },
  "cells": [
    {
      "cell_type": "markdown",
      "metadata": {
        "id": "view-in-github",
        "colab_type": "text"
      },
      "source": [
        "<a href=\"https://colab.research.google.com/github/kirannair97/python-projects/blob/main/Blind_Auction.ipynb\" target=\"_parent\"><img src=\"https://colab.research.google.com/assets/colab-badge.svg\" alt=\"Open In Colab\"/></a>"
      ]
    },
    {
      "cell_type": "markdown",
      "source": [
        "## Project: Blind Auction"
      ],
      "metadata": {
        "id": "MJPIrfqxG2a1"
      }
    },
    {
      "cell_type": "code",
      "source": [
        "from art import logo\n",
        "print(logo)"
      ],
      "metadata": {
        "colab": {
          "base_uri": "https://localhost:8080/"
        },
        "id": "3Q6vFSFZG7Vq",
        "outputId": "f12c5a34-ac2c-4e96-85d7-9f67f92d6e50"
      },
      "execution_count": 1,
      "outputs": [
        {
          "output_type": "stream",
          "name": "stdout",
          "text": [
            "\n",
            "                         ___________\n",
            "                         \\         /\n",
            "                          )_______(\n",
            "                          |\"\"\"\"\"\"\"|_.-._,.---------.,_.-._\n",
            "                          |       | | |               | | ''-.\n",
            "                          |       |_| |_             _| |_..-'\n",
            "                          |_______| '-' `'---------'` '-'\n",
            "                          )\"\"\"\"\"\"\"(\n",
            "                         /_________\\\n",
            "                       .-------------.\n",
            "                      /_______________\\\n",
            "\n"
          ]
        }
      ]
    },
    {
      "cell_type": "code",
      "source": [
        "auction_storage = {}\n",
        "auction_continues = True"
      ],
      "metadata": {
        "id": "ITRNBeKbHOaE"
      },
      "execution_count": 2,
      "outputs": []
    },
    {
      "cell_type": "code",
      "source": [
        "while auction_continues:\n",
        "    name = input(\"Enter the name of the bidder: \").lower()\n",
        "    bid_amount = int(input(\"Enter your bid amount: \"))\n",
        "    auction_storage[name] = bid_amount\n",
        "    new_bidders = input(\"Are there more bidders? enter Yes or No: \").lower()\n",
        "\n",
        "    if new_bidders == 'no':\n",
        "        auction_continues = False\n",
        "\n",
        "max_bid = 0\n",
        "for key in auction_storage:\n",
        "    if auction_storage[key] > max_bid:\n",
        "        max_bid = auction_storage[key]\n",
        "        key_name = key\n",
        "\n",
        "print(f\"The winner is {key_name} with ${max_bid} bid amount.\")"
      ],
      "metadata": {
        "colab": {
          "base_uri": "https://localhost:8080/"
        },
        "id": "HFxd4HGeHem8",
        "outputId": "72fe8164-e845-4189-8be6-5fdeaa07cda8"
      },
      "execution_count": 3,
      "outputs": [
        {
          "output_type": "stream",
          "name": "stdout",
          "text": [
            "Enter the name of the bidder: Martin\n",
            "Enter your bid amount: 1800\n",
            "Are there more bidders? enter Yes or No: Yes\n",
            "Enter the name of the bidder: Carry\n",
            "Enter your bid amount: 1850\n",
            "Are there more bidders? enter Yes or No: Yes\n",
            "Enter the name of the bidder: Ciara\n",
            "Enter your bid amount: 1840\n",
            "Are there more bidders? enter Yes or No: No\n",
            "The winner is carry with $1850 bid amount.\n"
          ]
        }
      ]
    }
  ]
}