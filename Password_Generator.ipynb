{
  "nbformat": 4,
  "nbformat_minor": 0,
  "metadata": {
    "colab": {
      "provenance": [],
      "authorship_tag": "ABX9TyMam/lQG1lJCu+ZBofqdetB",
      "include_colab_link": true
    },
    "kernelspec": {
      "name": "python3",
      "display_name": "Python 3"
    },
    "language_info": {
      "name": "python"
    }
  },
  "cells": [
    {
      "cell_type": "markdown",
      "metadata": {
        "id": "view-in-github",
        "colab_type": "text"
      },
      "source": [
        "<a href=\"https://colab.research.google.com/github/kirannair97/python-projects/blob/main/Password_Generator.ipynb\" target=\"_parent\"><img src=\"https://colab.research.google.com/assets/colab-badge.svg\" alt=\"Open In Colab\"/></a>"
      ]
    },
    {
      "cell_type": "markdown",
      "source": [
        "## Project: Password Generator"
      ],
      "metadata": {
        "id": "cUv7CBGuIBhD"
      }
    },
    {
      "cell_type": "markdown",
      "source": [
        "### Goal:\n",
        "1. Create a password generator that generates random password based on (Alphabets, Special character, and symbols.)\n"
      ],
      "metadata": {
        "id": "kng52siCIHpa"
      }
    },
    {
      "cell_type": "code",
      "source": [
        "import random"
      ],
      "metadata": {
        "id": "0cGlzt8WJ6iq"
      },
      "execution_count": 1,
      "outputs": []
    },
    {
      "cell_type": "code",
      "source": [
        "letters = ['a', 'b', 'c', 'd', 'e', 'f', 'g', 'h', 'i', 'j', 'k', 'l', 'm', 'n', 'o', 'p', 'q', 'r', 's', 't', 'u', 'v', 'w', 'x', 'y', 'z', 'A', 'B', 'C', 'D', 'E', 'F', 'G', 'H', 'I', 'J', 'K', 'L', 'M', 'N', 'O', 'P', 'Q', 'R', 'S', 'T', 'U', 'V', 'W', 'X', 'Y', 'Z']\n",
        "numbers = ['0', '1', '2', '3', '4', '5', '6', '7', '8', '9']\n",
        "symbols = ['!', '#', '$', '%', '&', '(', ')', '*', '+']"
      ],
      "metadata": {
        "id": "Gul33Z2-J7Mk"
      },
      "execution_count": 2,
      "outputs": []
    },
    {
      "cell_type": "code",
      "source": [
        "print(\"Welcome to the PyPassword Generator!\")\n",
        "nr_letters= int(input(\"How many letters would you like in your password?\\n\")) \n",
        "nr_symbols = int(input(f\"How many symbols would you like?\\n\"))\n",
        "nr_numbers = int(input(f\"How many numbers would you like?\\n\"))"
      ],
      "metadata": {
        "colab": {
          "base_uri": "https://localhost:8080/"
        },
        "id": "HAvRLYSIKIeT",
        "outputId": "897b7f08-3d6a-46b6-8791-ad8614870b21"
      },
      "execution_count": 3,
      "outputs": [
        {
          "name": "stdout",
          "output_type": "stream",
          "text": [
            "Welcome to the PyPassword Generator!\n",
            "How many letters would you like in your password?\n",
            "3\n",
            "How many symbols would you like?\n",
            "3\n",
            "How many numbers would you like?\n",
            "3\n"
          ]
        }
      ]
    },
    {
      "cell_type": "code",
      "source": [
        "A = []\n",
        "for i in range(nr_letters):\n",
        "  for items in (letters):\n",
        "    letters_generator = random.choice(letters)\n",
        "  A.append(letters_generator)\n",
        "\n",
        "B = []\n",
        "for i in range(nr_symbols):\n",
        "  for items in (symbols):\n",
        "    symbols_generator = random.choice(symbols)\n",
        "  B.append(symbols_generator)\n",
        "\n",
        "C = []\n",
        "for i in range(nr_numbers):\n",
        "  for items in (numbers):\n",
        "    numbers_generator = random.choice(numbers)\n",
        "  C.append(numbers_generator)"
      ],
      "metadata": {
        "id": "Ww_0fJ2kKM_S"
      },
      "execution_count": 4,
      "outputs": []
    },
    {
      "cell_type": "code",
      "source": [
        "p = \"\"\n",
        "password_generator = A + B + C\n",
        "random.shuffle(password_generator)\n",
        "password = p.join(password_generator)\n",
        "print(f\"Here is your password: {password}\")"
      ],
      "metadata": {
        "colab": {
          "base_uri": "https://localhost:8080/"
        },
        "id": "vbGofZ3MKfQy",
        "outputId": "5d907b6b-0f1d-4656-d261-cd213d08b342"
      },
      "execution_count": 5,
      "outputs": [
        {
          "output_type": "stream",
          "name": "stdout",
          "text": [
            "Here is your password: )g*%8L31Z\n"
          ]
        }
      ]
    }
  ]
}