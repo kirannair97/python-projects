{
  "nbformat": 4,
  "nbformat_minor": 0,
  "metadata": {
    "colab": {
      "provenance": [],
      "authorship_tag": "ABX9TyOfeLBrYBFlDHhmZaQIgLNR",
      "include_colab_link": true
    },
    "kernelspec": {
      "name": "python3",
      "display_name": "Python 3"
    },
    "language_info": {
      "name": "python"
    }
  },
  "cells": [
    {
      "cell_type": "markdown",
      "metadata": {
        "id": "view-in-github",
        "colab_type": "text"
      },
      "source": [
        "<a href=\"https://colab.research.google.com/github/kirannair97/python-projects/blob/main/Caesar_Cipher.ipynb\" target=\"_parent\"><img src=\"https://colab.research.google.com/assets/colab-badge.svg\" alt=\"Open In Colab\"/></a>"
      ]
    },
    {
      "cell_type": "markdown",
      "source": [
        "## Project: Caesar Cipher"
      ],
      "metadata": {
        "id": "0FdMMGDct0M1"
      }
    },
    {
      "cell_type": "code",
      "source": [
        "alphabet = ['a', 'b', 'c', 'd', 'e', 'f', 'g', 'h', 'i', 'j', 'k', 'l', 'm', 'n', 'o', 'p', 'q', 'r', 's', 't', 'u', 'v', 'w', 'x', 'y', 'z', 'a', 'b', 'c', 'd', 'e', 'f', 'g', 'h', 'i', 'j', 'k', 'l', 'm', 'n', 'o', 'p', 'q', 'r', 's', 't', 'u', 'v', 'w', 'x', 'y', 'z']"
      ],
      "metadata": {
        "id": "-iQTtAwEt87j"
      },
      "execution_count": 1,
      "outputs": []
    },
    {
      "cell_type": "code",
      "source": [
        "def caesar(start_text, shift_amount, cipher_direction):\n",
        "  end_text = \"\"\n",
        "  if cipher_direction == \"decode\":\n",
        "    shift_amount *= -1\n",
        "  for char in start_text:\n",
        "    if char in alphabet:\n",
        "      position = alphabet.index(char)\n",
        "      new_position = position + shift_amount\n",
        "      end_text += alphabet[new_position]\n",
        "    else:\n",
        "      end_text += char\n",
        "  print(f\"Here's the {cipher_direction}d result: {end_text}\")"
      ],
      "metadata": {
        "id": "jMI_w2hjuBIU"
      },
      "execution_count": 2,
      "outputs": []
    },
    {
      "cell_type": "code",
      "source": [
        "from art import logo\n",
        "print(logo)"
      ],
      "metadata": {
        "colab": {
          "base_uri": "https://localhost:8080/"
        },
        "id": "tMXfTPd-uIxf",
        "outputId": "70c67f24-50a0-40c4-a688-f8cde21101e6"
      },
      "execution_count": 3,
      "outputs": [
        {
          "output_type": "stream",
          "name": "stdout",
          "text": [
            "           \n",
            " ,adPPYba, ,adPPYYba,  ,adPPYba, ,adPPYba, ,adPPYYba, 8b,dPPYba,  \n",
            "a8\"     \"\" \"\"     `Y8 a8P_____88 I8[    \"\" \"\"     `Y8 88P'   \"Y8  \n",
            "8b         ,adPPPPP88 8PP\"  `\"Y8ba,  ,adPPPPP88 88          \n",
            "\"8a,   ,aa 88,    ,88 \"8b,   ,aa aa    ]8I 88,    ,88 88          \n",
            " `\"Ybbd8\"' `\"8bbdP\"Y8  `\"Ybbd8\"' `\"YbbdP\"' `\"8bbdP\"Y8 88   \n",
            "            88             88                                 \n",
            "           \"\"             88                                 \n",
            "                          88                                 \n",
            " ,adPPYba, 88 8b,dPPYba,  88,dPPYba,   ,adPPYba, 8b,dPPYba,  \n",
            "a8\"     \"\" 88 88P'    \"8a 88P'    \"8a a8P_____88 88P'   \"Y8  \n",
            "8b         88 88       d8 88       88 8PP\" 88          \n",
            "\"8a,   ,aa 88 88b,   ,a8\" 88       88 \"8b,   ,aa 88          \n",
            " `\"Ybbd8\"' 88 88`YbbdP\"'  88       88  `\"Ybbd8\"' 88          \n",
            "              88                                             \n",
            "              88           \n",
            "\n"
          ]
        }
      ]
    },
    {
      "cell_type": "code",
      "source": [
        "should_end = False\n",
        "while not should_end:\n",
        "\n",
        "  direction = input(\"Type 'encode' to encrypt, type 'decode' to decrypt:\\n\")\n",
        "  text = input(\"Type your message:\\n\").lower()\n",
        "  shift = int(input(\"Type the shift number:\\n\"))\n",
        "\n",
        "  shift = shift % 26\n",
        "\n",
        "  caesar(start_text=text, shift_amount=shift, cipher_direction=direction)\n",
        "\n",
        "  restart = input(\"Type 'yes' if you want to go again. Otherwise type 'no'.\\n\").lower()\n",
        "  if restart == \"no\":\n",
        "    should_end = True\n",
        "    print(\"Goodbye\")"
      ],
      "metadata": {
        "colab": {
          "base_uri": "https://localhost:8080/"
        },
        "id": "2nKSwgeYueC-",
        "outputId": "4ce60f27-da9a-442b-b7da-bd76967bba02"
      },
      "execution_count": 4,
      "outputs": [
        {
          "output_type": "stream",
          "name": "stdout",
          "text": [
            "Type 'encode' to encrypt, type 'decode' to decrypt:\n",
            "encode\n",
            "Type your message:\n",
            "hello\n",
            "Type the shift number:\n",
            "5\n",
            "Here's the encoded result: mjqqt\n",
            "Type 'yes' if you want to go again. Otherwise type 'no'.\n",
            "Yes\n",
            "Type 'encode' to encrypt, type 'decode' to decrypt:\n",
            "decode\n",
            "Type your message:\n",
            "mjqqt\n",
            "Type the shift number:\n",
            "5\n",
            "Here's the decoded result: hello\n",
            "Type 'yes' if you want to go again. Otherwise type 'no'.\n",
            "No\n",
            "Goodbye\n"
          ]
        }
      ]
    }
  ]
}