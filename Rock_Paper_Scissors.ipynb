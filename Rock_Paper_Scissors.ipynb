{
  "nbformat": 4,
  "nbformat_minor": 0,
  "metadata": {
    "colab": {
      "provenance": [],
      "authorship_tag": "ABX9TyPiTSBpFW13ZUWxy6y8Ndg+",
      "include_colab_link": true
    },
    "kernelspec": {
      "name": "python3",
      "display_name": "Python 3"
    },
    "language_info": {
      "name": "python"
    }
  },
  "cells": [
    {
      "cell_type": "markdown",
      "metadata": {
        "id": "view-in-github",
        "colab_type": "text"
      },
      "source": [
        "<a href=\"https://colab.research.google.com/github/kirannair97/python-projects/blob/main/Rock_Paper_Scissors.ipynb\" target=\"_parent\"><img src=\"https://colab.research.google.com/assets/colab-badge.svg\" alt=\"Open In Colab\"/></a>"
      ]
    },
    {
      "cell_type": "markdown",
      "source": [
        "## Project: Rock Paper Scissors"
      ],
      "metadata": {
        "id": "m-kkXi-6ZQWb"
      }
    },
    {
      "cell_type": "code",
      "source": [
        "rock = '''\n",
        "    _______\n",
        "---'   ____)\n",
        "      (_____)\n",
        "      (_____)\n",
        "      (____)\n",
        "---.__(___)\n",
        "'''\n",
        "\n",
        "paper = '''\n",
        "    _______\n",
        "---'   ____)____\n",
        "          ______)\n",
        "          _______)\n",
        "         _______)\n",
        "---.__________)\n",
        "'''\n",
        "\n",
        "scissors = '''\n",
        "    _______\n",
        "---'   ____)____\n",
        "          ______)\n",
        "       __________)\n",
        "      (____)\n",
        "---.__(___)\n",
        "'''"
      ],
      "metadata": {
        "id": "pIwF5WwuZXnN"
      },
      "execution_count": 6,
      "outputs": []
    },
    {
      "cell_type": "code",
      "source": [
        "import random"
      ],
      "metadata": {
        "id": "S0ILz9s1ZlIY"
      },
      "execution_count": 7,
      "outputs": []
    },
    {
      "cell_type": "code",
      "source": [
        "list = [rock, paper, scissors]"
      ],
      "metadata": {
        "id": "Iji3X3sKZn8M"
      },
      "execution_count": 8,
      "outputs": []
    },
    {
      "cell_type": "code",
      "source": [
        "your_choice = int(input(\"Choose any number - 0: rock, 1: paper, 2: scissors: \\n\"))"
      ],
      "metadata": {
        "colab": {
          "base_uri": "https://localhost:8080/"
        },
        "id": "WEiponleZqJY",
        "outputId": "d3061438-18a9-4e81-e8dd-66afc4cc7b49"
      },
      "execution_count": 4,
      "outputs": [
        {
          "name": "stdout",
          "output_type": "stream",
          "text": [
            "Choose any number - 0: rock, 1: paper, 2: scissors: \n",
            "0\n"
          ]
        }
      ]
    },
    {
      "cell_type": "code",
      "source": [
        "if your_choice < 0 or your_choice > 2:\n",
        "    print(\"Invalid Input!\")\n",
        "else:\n",
        "    print(list[your_choice])\n",
        "    computer_move = random.randint(0, 2)\n",
        "    print(\"Computer chose: \")\n",
        "    computer_choice = list[computer_move]\n",
        "    print(computer_choice)\n",
        "    \n",
        "    if your_choice == computer_move:\n",
        "        print(\"It's a Draw.\")\n",
        "    else:\n",
        "        if your_choice > computer_move:\n",
        "            if your_choice == 2 and computer_move == 0:\n",
        "                print(\"You Lose!\")\n",
        "            else:\n",
        "                print(\"You Win!\")\n",
        "        elif your_choice == 1 and computer_move == 2:\n",
        "            print(\"You Lose!\")\n",
        "        elif your_choice == 0 and computer_move == 1:\n",
        "            print(\"You Lose!\")\n",
        "        else:\n",
        "            print(\"You Win!\")"
      ],
      "metadata": {
        "colab": {
          "base_uri": "https://localhost:8080/"
        },
        "id": "ImJzGrIMZuUk",
        "outputId": "de7c201c-1177-4337-95f8-3f5ee3f7f32b"
      },
      "execution_count": 5,
      "outputs": [
        {
          "output_type": "stream",
          "name": "stdout",
          "text": [
            "\n",
            "    _______\n",
            "---'   ____)\n",
            "      (_____)\n",
            "      (_____)\n",
            "      (____)\n",
            "---.__(___)\n",
            "\n",
            "Computer chose: \n",
            "\n",
            "    _______\n",
            "---'   ____)\n",
            "      (_____)\n",
            "      (_____)\n",
            "      (____)\n",
            "---.__(___)\n",
            "\n",
            "It's a Draw.\n"
          ]
        }
      ]
    }
  ]
}